{
  "cells": [
    {
      "cell_type": "markdown",
      "metadata": {
        "id": "6FLMgAhwabNw"
      },
      "source": [
        "# 🛠️ MVP - Predição de Manutenção Industrial com Machine Learning\n",
        "\n",
        "Este notebook tem como objetivo construir um modelo de machine learning para prever falhas em equipamentos industriais com base em sensores operacionais. Utilizo o dataset **AI4I 2020 Predictive Maintenance**.\n",
        "\n",
        "O modelo gerado será exportado e utilizado em uma aplicação web full stack desenvolvida com FastAPI.\n"
      ]
    },
    {
      "cell_type": "markdown",
      "metadata": {
        "id": "UkX14O5Tb0Ed"
      },
      "source": [
        "### 1️⃣ Importação das bibliotecas\n",
        "\n",
        "Nesta etapa, carregamos as bibliotecas necessárias para manipulação de dados, dividir amostras, treinar modelos de machine learning e exportar o resultado final."
      ]
    },
    {
      "cell_type": "code",
      "execution_count": null,
      "metadata": {
        "id": "f7adc85d"
      },
      "outputs": [],
      "source": [
        "\n",
        "# 🔹 1. Importação das bibliotecas\n",
        "import pandas as pd\n",
        "import numpy as np\n",
        "from sklearn.model_selection import train_test_split, cross_val_score\n",
        "from sklearn.preprocessing import StandardScaler\n",
        "from sklearn.pipeline import Pipeline\n",
        "from sklearn.metrics import classification_report\n",
        "from sklearn.neighbors import KNeighborsClassifier\n",
        "from sklearn.tree import DecisionTreeClassifier\n",
        "from sklearn.naive_bayes import GaussianNB\n",
        "from sklearn.svm import SVC\n",
        "import joblib\n"
      ]
    },
    {
      "cell_type": "markdown",
      "metadata": {
        "id": "IvWMe2Lfb30z"
      },
      "source": [
        "### 2️⃣ Carregamento do dataset\n",
        "\n",
        "O dataset **AI4I 2020** é carregado diretamente via URL. Ele contém dados simulados de sensores industriais (temperatura, torque, rotação etc.) e se uma falha de máquina ocorreu (`machine_failure`)."
      ]
    },
    {
      "cell_type": "code",
      "execution_count": null,
      "metadata": {
        "id": "b92520a2"
      },
      "outputs": [],
      "source": [
        "# 🔹 2. Upload e carregamento do dataset AI4I 2020\n",
        "from google.colab import files\n",
        "import pandas as pd\n",
        "\n",
        "uploaded = files.upload()  # selecione o arquivo ai4i2020.csv\n",
        "df = pd.read_csv('ai4i2020.csv')\n",
        "\n",
        "df.head()  # para verificar as primeiras linhas"
      ]
    },
    {
      "cell_type": "markdown",
      "metadata": {
        "id": "CFrFbUQDb9Yf"
      },
      "source": [
        "### 3️⃣ Pré-processamento dos dados\n",
        "\n",
        "Removemos colunas que não são úteis para o modelo (`udi`, `product_id`, `type`) e normalizamos os nomes das colunas para facilitar o trabalho com o Pandas e Scikit-learn.\n"
      ]
    },
    {
      "cell_type": "code",
      "execution_count": null,
      "metadata": {
        "id": "d80cfb18"
      },
      "outputs": [],
      "source": [
        "# 🔹 3. Pré-processamento básico\n",
        "df.columns = [col.strip().lower().replace(\" \", \"_\").replace(\"[\", \"\").replace(\"]\", \"\").replace(\"/\", \"\") for col in df.columns]\n",
        "df = df.drop(columns=['udi', 'product_id', 'type'])  # Remover colunas não numéricas\n",
        "X = df.drop(columns=['machine_failure'])\n",
        "y = df['machine_failure']"
      ]
    },
    {
      "cell_type": "markdown",
      "metadata": {
        "id": "tfZO6gjEcCg1"
      },
      "source": [
        "### 4️⃣ Divisão dos dados em treino e teste\n",
        "\n",
        "Separamos os dados em 80% para treino e 20% para teste. Isso nos permite avaliar o desempenho real dos modelos em dados nunca vistos.\n"
      ]
    },
    {
      "cell_type": "code",
      "execution_count": null,
      "metadata": {
        "id": "cdc21a65"
      },
      "outputs": [],
      "source": [
        "# 🔹 4. Divisão treino/teste\n",
        "X_train, X_test, y_train, y_test = train_test_split(X, y, test_size=0.2, random_state=42)"
      ]
    },
    {
      "cell_type": "markdown",
      "metadata": {
        "id": "efoXaXsNcFuZ"
      },
      "source": [
        "### 5️⃣ Treinamento dos modelos\n",
        "\n",
        "Utilizamos os seguintes algoritmos clássicos de classificação:\n",
        "\n",
        "- K-Nearest Neighbors (KNN)\n",
        "- Árvore de Decisão\n",
        "- Naive Bayes\n",
        "- Suporte a Vetores de Máquinas (SVM)\n",
        "\n",
        "Todos são encapsulados em um pipeline com normalização via `StandardScaler`.\n"
      ]
    },
    {
      "cell_type": "code",
      "execution_count": null,
      "metadata": {
        "id": "eea492d6"
      },
      "outputs": [],
      "source": [
        "# 🔹 5. Modelos\n",
        "modelos = {\n",
        "    \"KNN\": KNeighborsClassifier(),\n",
        "    \"Árvore\": DecisionTreeClassifier(),\n",
        "    \"Naive Bayes\": GaussianNB(),\n",
        "    \"SVM\": SVC()\n",
        "}"
      ]
    },
    {
      "cell_type": "markdown",
      "metadata": {
        "id": "Y_RaYkmncIMA"
      },
      "source": [
        "### 6️⃣ Avaliação dos resultados\n",
        "\n",
        "Geramos relatórios de classificação (`classification_report`) para comparar os modelos usando métricas como **precisão**, **recall** e **F1-score**.\n",
        "\n",
        "Essas métricas nos ajudam a escolher o modelo com melhor equilíbrio entre acertos e erros.\n"
      ]
    },
    {
      "cell_type": "code",
      "execution_count": null,
      "metadata": {
        "id": "124615e9"
      },
      "outputs": [],
      "source": [
        "# 🔹 6. Avaliação\n",
        "resultados = {}\n",
        "melhor_f1 = -1  # Inicializa com um valor baixo\n",
        "melhor_modelo = None # Inicializa melhor_modelo como None\n",
        "\n",
        "for nome, modelo in modelos.items():\n",
        "    pipeline = Pipeline([\n",
        "        ('scaler', StandardScaler()),\n",
        "        (nome, modelo)\n",
        "    ])\n",
        "    pipeline.fit(X_train, y_train)\n",
        "    y_pred = pipeline.predict(X_test)\n",
        "    report = classification_report(y_test, y_pred, output_dict=True) # Obter o relatório como dicionário\n",
        "    f1_score = report['1']['f1-score'] # Acessar o F1-score para a classe positiva ('1')\n",
        "\n",
        "    print(f\"\\n🔍 {nome} - Relatório de Classificação\")\n",
        "    print(classification_report(y_test, y_pred))\n",
        "\n",
        "    resultados[nome] = pipeline\n",
        "\n",
        "    # Comparar e selecionar o melhor modelo com base no F1-score\n",
        "    if f1_score > melhor_f1:\n",
        "        melhor_f1 = f1_score\n",
        "        melhor_modelo = pipeline # Armazenar o pipeline do melhor modelo"
      ]
    },
    {
      "cell_type": "markdown",
      "metadata": {
        "id": "GyO4xuRQcK_h"
      },
      "source": [
        "### 7️⃣ Exportação do melhor modelo\n",
        "\n",
        "Selecionamos a Árvore de Decisão como o modelo final com base nos resultados das métricas. O modelo é salvo no formato `.pkl` para ser carregado pela aplicação FastAPI e utilizado em predições futuras.\n"
      ]
    },
    {
      "cell_type": "code",
      "execution_count": null,
      "metadata": {
        "id": "2f133c68"
      },
      "outputs": [],
      "source": [
        "# 🔹 7. Exportar melhor modelo com pickle\n",
        "import pickle\n",
        "with open('modelo_manutencao.pkl', 'wb') as f:\n",
        "    pickle.dump(melhor_modelo, f)\n",
        "print('Modelo salvo como modelo_manutencao.pkl')\n",
        "\n",
        "# Testar o carregamento\n",
        "with open('modelo_manutencao.pkl', 'rb') as f:\n",
        "    modelo_carregado = pickle.load(f)\n",
        "print('Modelo carregado com sucesso:', modelo_carregado)\n"
      ]
    },
    {
      "cell_type": "markdown",
      "metadata": {
        "id": "91950e8d"
      },
      "source": [
        "### 8️⃣ Exportação do modelo treinado (.pkl)\n",
        "Após o pipeline de pré-processamento e treinamento, esta célula exporta o modelo para ser utilizado na API.\n",
        "Este modelo é salvo com a versão 1.7.0 do scikit-learn para evitar incompatibilidades durante o uso."
      ]
    },
    {
      "cell_type": "code",
      "execution_count": null,
      "metadata": {
        "id": "91005bbc"
      },
      "outputs": [],
      "source": [
        "# 🔹 7. Exportar melhor modelo com pickle\n",
        "import pickle\n",
        "with open('modelo_manutencao.pkl', 'wb') as f:\n",
        "    pickle.dump(melhor_modelo, f)\n",
        "print('Modelo salvo como modelo_manutencao.pkl')\n",
        "\n",
        "# Testar o carregamento\n",
        "with open('modelo_manutencao.pkl', 'rb') as f:\n",
        "    modelo_carregado = pickle.load(f)\n",
        "print('Modelo carregado com sucesso:', modelo_carregado)\n"
      ]
    },
    {
      "cell_type": "markdown",
      "metadata": {
        "id": "0r92QYzOa63n"
      },
      "source": [
        "### 9️⃣ Download do modelo treinado\n",
        "Nesta etapa realizamos o download do arquivo .pkl que contém o melhor modelo treinado para uso posterior."
      ]
    },
    {
      "cell_type": "code",
      "execution_count": null,
      "metadata": {
        "id": "46cf81d2"
      },
      "outputs": [],
      "source": [
        "# 🔹 7. Exportar melhor modelo com pickle\n",
        "import pickle\n",
        "with open('modelo_manutencao.pkl', 'wb') as f:\n",
        "    pickle.dump(melhor_modelo, f)\n",
        "print('Modelo salvo como modelo_manutencao.pkl')\n",
        "\n",
        "# Testar o carregamento\n",
        "with open('modelo_manutencao.pkl', 'rb') as f:\n",
        "    modelo_carregado = pickle.load(f)\n",
        "print('Modelo carregado com sucesso:', modelo_carregado)\n"
      ]
    },
    {
      "cell_type": "code",
      "execution_count": null,
      "metadata": {
        "id": "520fd124"
      },
      "outputs": [],
      "source": [
        "from google.colab import files\n",
        "files.download('modelo_manutencao.pkl')\n"
      ]
    },
    {
      "cell_type": "markdown",
      "metadata": {
        "id": "NLfgfR35c6Vh"
      },
      "source": [
        "## ✅ Conclusão\n",
        "\n",
        "Este notebook permitiu a construção de um modelo de machine learning para manutenção preditiva industrial, utilizando o dataset AI4I 2020.\n",
        "\n",
        "O modelo final foi treinado com a Árvore de Decisão, avaliado com métricas robustas, e exportado para ser utilizado na aplicação full stack que integra front-end (HTML/JS) com back-end em FastAPI.\n",
        "\n",
        "Essa solução permite prever falhas com base nos sensores de temperatura, pressão, vibração e corrente elétrica.\n"
      ]
    }
  ],
  "metadata": {
    "colab": {
      "provenance": []
    },
    "kernelspec": {
      "display_name": "Python 3",
      "name": "python3"
    },
    "language_info": {
      "name": "python"
    }
  },
  "nbformat": 4,
  "nbformat_minor": 0
}