{
  "nbformat": 4,
  "nbformat_minor": 0,
  "metadata": {
    "colab": {
      "provenance": []
    },
    "kernelspec": {
      "name": "python3",
      "display_name": "Python 3"
    },
    "language_info": {
      "name": "python"
    }
  },
  "cells": [
    {
      "cell_type": "markdown",
      "source": [
        "# 🛠️ MVP - Predição de Manutenção Industrial com Machine Learning\n",
        "\n",
        "Este notebook tem como objetivo construir um modelo de machine learning para prever falhas em equipamentos industriais com base em sensores operacionais. Utilizo o dataset **AI4I 2020 Predictive Maintenance**.\n",
        "\n",
        "O modelo gerado será exportado e utilizado em uma aplicação web full stack desenvolvida com FastAPI.\n"
      ],
      "metadata": {
        "id": "6FLMgAhwabNw"
      }
    },
    {
      "cell_type": "markdown",
      "source": [
        "### 1️⃣ Importação das bibliotecas\n",
        "\n",
        "Nesta etapa, carregamos as bibliotecas necessárias para manipulação de dados, dividir amostras, treinar modelos de machine learning e exportar o resultado final."
      ],
      "metadata": {
        "id": "UkX14O5Tb0Ed"
      }
    },
    {
      "cell_type": "code",
      "execution_count": null,
      "metadata": {
        "id": "yTqtBsgUYh1G"
      },
      "outputs": [],
      "source": [
        "# 🔹 1. Importação das bibliotecas\n",
        "import pandas as pd\n",
        "import numpy as np\n",
        "from sklearn.model_selection import train_test_split, cross_val_score\n",
        "from sklearn.preprocessing import StandardScaler\n",
        "from sklearn.pipeline import Pipeline\n",
        "from sklearn.metrics import classification_report\n",
        "from sklearn.neighbors import KNeighborsClassifier\n",
        "from sklearn.tree import DecisionTreeClassifier\n",
        "from sklearn.naive_bayes import GaussianNB\n",
        "from sklearn.svm import SVC\n",
        "import joblib"
      ]
    },
    {
      "cell_type": "markdown",
      "source": [
        "### 2️⃣ Carregamento do dataset\n",
        "\n",
        "O dataset **AI4I 2020** é carregado diretamente via URL. Ele contém dados simulados de sensores industriais (temperatura, torque, rotação etc.) e se uma falha de máquina ocorreu (`machine_failure`)."
      ],
      "metadata": {
        "id": "IvWMe2Lfb30z"
      }
    },
    {
      "cell_type": "code",
      "source": [
        "# 🔹 2. Carregamento do dataset via URL\n",
        "url = \"https://archive.ics.uci.edu/ml/machine-learning-databases/00502/ai4i2020.csv\"\n",
        "df = pd.read_csv(url)"
      ],
      "metadata": {
        "id": "OcY-fcXpZzy-"
      },
      "execution_count": null,
      "outputs": []
    },
    {
      "cell_type": "markdown",
      "source": [
        "### 3️⃣ Pré-processamento dos dados\n",
        "\n",
        "Removemos colunas que não são úteis para o modelo (`udi`, `product_id`, `type`) e normalizamos os nomes das colunas para facilitar o trabalho com o Pandas e Scikit-learn.\n"
      ],
      "metadata": {
        "id": "CFrFbUQDb9Yf"
      }
    },
    {
      "cell_type": "code",
      "source": [
        "# 🔹 3. Pré-processamento básico\n",
        "df.columns = [col.strip().lower().replace(\" \", \"_\").replace(\"[\", \"\").replace(\"]\", \"\").replace(\"/\", \"\") for col in df.columns]\n",
        "df = df.drop(columns=['udi', 'product_id', 'type'])  # Remover colunas não numéricas\n",
        "X = df.drop(columns=['machine_failure'])\n",
        "y = df['machine_failure']"
      ],
      "metadata": {
        "id": "BF4uDhn-Z3p0"
      },
      "execution_count": null,
      "outputs": []
    },
    {
      "cell_type": "markdown",
      "source": [
        "### 4️⃣ Divisão dos dados em treino e teste\n",
        "\n",
        "Separamos os dados em 80% para treino e 20% para teste. Isso nos permite avaliar o desempenho real dos modelos em dados nunca vistos.\n"
      ],
      "metadata": {
        "id": "tfZO6gjEcCg1"
      }
    },
    {
      "cell_type": "code",
      "source": [
        "# 🔹 4. Divisão treino/teste\n",
        "X_train, X_test, y_train, y_test = train_test_split(X, y, test_size=0.2, random_state=42)"
      ],
      "metadata": {
        "id": "4CdLDNUSZ6aL"
      },
      "execution_count": null,
      "outputs": []
    },
    {
      "cell_type": "markdown",
      "source": [
        "### 5️⃣ Treinamento dos modelos\n",
        "\n",
        "Utilizamos os seguintes algoritmos clássicos de classificação:\n",
        "\n",
        "- K-Nearest Neighbors (KNN)\n",
        "- Árvore de Decisão\n",
        "- Naive Bayes\n",
        "- Suporte a Vetores de Máquinas (SVM)\n",
        "\n",
        "Todos são encapsulados em um pipeline com normalização via `StandardScaler`.\n"
      ],
      "metadata": {
        "id": "efoXaXsNcFuZ"
      }
    },
    {
      "cell_type": "code",
      "source": [
        "# 🔹 5. Modelos\n",
        "modelos = {\n",
        "    \"KNN\": KNeighborsClassifier(),\n",
        "    \"Árvore\": DecisionTreeClassifier(),\n",
        "    \"Naive Bayes\": GaussianNB(),\n",
        "    \"SVM\": SVC()\n",
        "}"
      ],
      "metadata": {
        "id": "6P4eWI2-Z9As"
      },
      "execution_count": null,
      "outputs": []
    },
    {
      "cell_type": "markdown",
      "source": [
        "### 6️⃣ Avaliação dos resultados\n",
        "\n",
        "Geramos relatórios de classificação (`classification_report`) para comparar os modelos usando métricas como **precisão**, **recall** e **F1-score**.\n",
        "\n",
        "Essas métricas nos ajudam a escolher o modelo com melhor equilíbrio entre acertos e erros.\n"
      ],
      "metadata": {
        "id": "Y_RaYkmncIMA"
      }
    },
    {
      "cell_type": "code",
      "source": [
        "# 🔹 6. Avaliação\n",
        "resultados = {}\n",
        "for nome, modelo in modelos.items():\n",
        "    pipeline = Pipeline([\n",
        "        ('scaler', StandardScaler()),\n",
        "        (nome, modelo)\n",
        "    ])\n",
        "    pipeline.fit(X_train, y_train)\n",
        "    y_pred = pipeline.predict(X_test)\n",
        "    print(f\"\\n🔍 {nome} - Relatório de Classificação\")\n",
        "    print(classification_report(y_test, y_pred))\n",
        "    resultados[nome] = pipeline"
      ],
      "metadata": {
        "id": "xSiGhBxsZ_oe"
      },
      "execution_count": null,
      "outputs": []
    },
    {
      "cell_type": "markdown",
      "source": [
        "### 7️⃣ Exportação do melhor modelo\n",
        "\n",
        "Selecionamos a Árvore de Decisão como o modelo final com base nos resultados das métricas. O modelo é salvo no formato `.pkl` para ser carregado pela aplicação FastAPI e utilizado em predições futuras.\n"
      ],
      "metadata": {
        "id": "GyO4xuRQcK_h"
      }
    },
    {
      "cell_type": "code",
      "source": [
        "# 🔹 7. Exportar melhor modelo\n",
        "melhor = resultados['Árvore']  # Exemplo: escolhemos Árvore de Decisão\n",
        "joblib.dump(melhor, 'modelo_manutencao.pkl')"
      ],
      "metadata": {
        "id": "pFL8W4Z0aFQV"
      },
      "execution_count": null,
      "outputs": []
    },
    {
      "cell_type": "markdown",
      "source": [
        "## ✅ Conclusão\n",
        "\n",
        "Este notebook permitiu a construção de um modelo de machine learning para manutenção preditiva industrial, utilizando o dataset AI4I 2020.\n",
        "\n",
        "O modelo final foi treinado com a Árvore de Decisão, avaliado com métricas robustas, e exportado para ser utilizado na aplicação full stack que integra front-end (HTML/JS) com back-end em FastAPI.\n",
        "\n",
        "Essa solução permite prever falhas com base nos sensores de temperatura, pressão, vibração e corrente elétrica.\n"
      ],
      "metadata": {
        "id": "NLfgfR35c6Vh"
      }
    }
  ]
}